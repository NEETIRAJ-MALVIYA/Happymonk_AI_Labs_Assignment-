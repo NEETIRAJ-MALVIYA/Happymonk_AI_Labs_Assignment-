{
 "cells": [
  {
   "cell_type": "code",
   "execution_count": 20,
   "id": "3a6e8ab8",
   "metadata": {},
   "outputs": [],
   "source": [
    "from keras.preprocessing.image import ImageDataGenerator\n",
    "from skimage import io\n",
    "import numpy as np\n",
    "import os\n",
    "datagen = ImageDataGenerator(\n",
    "    rotation_range=45,\n",
    "    width_shift_range=0.2,\n",
    "    height_shift_range=0.2,\n",
    "    horizontal_flip=True,\n",
    "    fill_mode='nearest')\n",
    "dataset=[]\n",
    "from PIL import Image\n",
    "\n",
    "image_dire='C:\\\\Users\\\\Neetiraj\\\\Videos\\\\Q4\\\\Bengali\\\\Original\\\\'\n",
    "SIZE=128\n",
    "dataset=[]\n",
    "my_image=os.listdir(image_dire)\n",
    "for i, image_name in enumerate(my_image):\n",
    "    if (image_name.split('.')[1]=='jpg'):\n",
    "        image=io.imread(image_dire + image_name)\n",
    "        image= Image.fromarray(image, 'RGB')\n",
    "        image=image.resize((SIZE,SIZE))\n",
    "        dataset.append(np.array(image))\n",
    "x = np.array(dataset)    \n",
    "i=0\n",
    "for batch in datagen.flow(x, batch_size=16,\n",
    "                         save_to_dir='augumentd',\n",
    "                         save_prefix='aug',\n",
    "                         save_format='jpeg'):\n",
    "    i+=1\n",
    "    if i>20:\n",
    "        break"
   ]
  },
  {
   "cell_type": "code",
   "execution_count": 16,
   "id": "2c34df35",
   "metadata": {},
   "outputs": [
    {
     "data": {
      "text/plain": [
       "(9, 128, 128, 3)"
      ]
     },
     "execution_count": 16,
     "metadata": {},
     "output_type": "execute_result"
    }
   ],
   "source": [
    "x.shape"
   ]
  }
 ],
 "metadata": {
  "kernelspec": {
   "display_name": "Python 3 (ipykernel)",
   "language": "python",
   "name": "python3"
  },
  "language_info": {
   "codemirror_mode": {
    "name": "ipython",
    "version": 3
   },
   "file_extension": ".py",
   "mimetype": "text/x-python",
   "name": "python",
   "nbconvert_exporter": "python",
   "pygments_lexer": "ipython3",
   "version": "3.9.12"
  }
 },
 "nbformat": 4,
 "nbformat_minor": 5
}
