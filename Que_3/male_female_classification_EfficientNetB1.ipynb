{
 "cells": [
  {
   "cell_type": "code",
   "execution_count": 5,
   "id": "ffcb1933",
   "metadata": {},
   "outputs": [],
   "source": [
    "from tensorflow.keras.applications.efficientnet import EfficientNetB1\n",
    "from tensorflow.keras.models import Sequential\n",
    "from tensorflow.keras.layers import Dense, Flatten, Dropout\n",
    "from tensorflow.keras.preprocessing.image import ImageDataGenerator"
   ]
  },
  {
   "cell_type": "code",
   "execution_count": 2,
   "id": "cf33c3c7",
   "metadata": {},
   "outputs": [],
   "source": [
    "num_classes = 2"
   ]
  },
  {
   "cell_type": "code",
   "execution_count": 3,
   "id": "d5d3e2ee",
   "metadata": {},
   "outputs": [],
   "source": [
    "from tensorflow.keras.optimizers import Adam"
   ]
  },
  {
   "cell_type": "code",
   "execution_count": 8,
   "id": "7a276368",
   "metadata": {},
   "outputs": [
    {
     "name": "stdout",
     "output_type": "stream",
     "text": [
      "Downloading data from https://storage.googleapis.com/keras-applications/efficientnetb1_notop.h5\n",
      "27018416/27018416 [==============================] - 7s 0us/step\n"
     ]
    }
   ],
   "source": [
    "model=EfficientNetB1(\n",
    "    include_top=False,\n",
    "    weights='imagenet',\n",
    "    input_tensor=None,\n",
    "    input_shape=None,\n",
    "    pooling=None,\n",
    "    classes=2,\n",
    "    classifier_activation='softmax'\n",
    ")"
   ]
  },
  {
   "cell_type": "code",
   "execution_count": 9,
   "id": "d3e861f1",
   "metadata": {},
   "outputs": [],
   "source": [
    "# load the ResNet50 model and add a few layers on top\n",
    "model = Sequential()\n",
    "model.add(EfficientNetB1(\n",
    "    include_top=False,\n",
    "    weights='imagenet',\n",
    "    input_tensor=None,\n",
    "    input_shape=None,\n",
    "    pooling='avg',\n",
    "    classes=2,\n",
    "    classifier_activation='softmax'\n",
    "))\n",
    "model.add(Dense(512, activation='relu'))\n",
    "model.add(Dropout(0.5))\n",
    "model.add(Dense(num_classes, activation='softmax'))"
   ]
  },
  {
   "cell_type": "code",
   "execution_count": 13,
   "id": "e10d3123",
   "metadata": {},
   "outputs": [],
   "source": [
    "for layer in model.layers[0].layers:\n",
    "    layer.trainable = False"
   ]
  },
  {
   "cell_type": "code",
   "execution_count": 14,
   "id": "338b145b",
   "metadata": {},
   "outputs": [
    {
     "name": "stderr",
     "output_type": "stream",
     "text": [
      "C:\\Users\\Neetiraj\\AppData\\Roaming\\Python\\Python39\\site-packages\\keras\\optimizers\\optimizer_v2\\adam.py:110: UserWarning: The `lr` argument is deprecated, use `learning_rate` instead.\n",
      "  super(Adam, self).__init__(name, **kwargs)\n"
     ]
    }
   ],
   "source": [
    "# compile the model\n",
    "model.compile(optimizer=Adam(lr = 0.001), loss='categorical_crossentropy', metrics=['accuracy'])"
   ]
  },
  {
   "cell_type": "code",
   "execution_count": null,
   "id": "ec7e357c",
   "metadata": {},
   "outputs": [],
   "source": []
  },
  {
   "cell_type": "code",
   "execution_count": 15,
   "id": "9555d6ab",
   "metadata": {},
   "outputs": [],
   "source": [
    "# define the data generators for training, validation, and test sets\n",
    "train_datagen = ImageDataGenerator(rescale=1./255,\n",
    "                                   shear_range=0.2,\n",
    "                                   zoom_range=0.2,\n",
    "                                   horizontal_flip=True)"
   ]
  },
  {
   "cell_type": "code",
   "execution_count": 16,
   "id": "bbaa4013",
   "metadata": {},
   "outputs": [],
   "source": [
    "validation_datagen = ImageDataGenerator(rescale=1./255)"
   ]
  },
  {
   "cell_type": "code",
   "execution_count": 17,
   "id": "aae221aa",
   "metadata": {},
   "outputs": [],
   "source": [
    "train_dir = r\"C:\\Users\\Neetiraj\\Videos\\archive\\traindata\\traindata\"\n",
    "val_dir = r\"C:\\Users\\Neetiraj\\Videos\\archive\\testdata\\testdata\""
   ]
  },
  {
   "cell_type": "code",
   "execution_count": 18,
   "id": "259b1601",
   "metadata": {},
   "outputs": [
    {
     "name": "stdout",
     "output_type": "stream",
     "text": [
      "Found 2891 images belonging to 2 classes.\n"
     ]
    }
   ],
   "source": [
    "# create the generators for the training, validation, and test sets\n",
    "train_generator = train_datagen.flow_from_directory(train_dir,\n",
    "                                                    target_size=(224, 224),\n",
    "                                                    batch_size=32,\n",
    "                                                    class_mode='categorical')"
   ]
  },
  {
   "cell_type": "code",
   "execution_count": 19,
   "id": "a1ddefc1",
   "metadata": {},
   "outputs": [
    {
     "name": "stdout",
     "output_type": "stream",
     "text": [
      "Found 1330 images belonging to 2 classes.\n"
     ]
    }
   ],
   "source": [
    "validation_generator = validation_datagen.flow_from_directory(val_dir,\n",
    "                                                              target_size=(224, 224),\n",
    "                                                              batch_size=32,\n",
    "                                                              class_mode='categorical')"
   ]
  },
  {
   "cell_type": "code",
   "execution_count": 20,
   "id": "88bae84c",
   "metadata": {},
   "outputs": [
    {
     "name": "stderr",
     "output_type": "stream",
     "text": [
      "C:\\Users\\Neetiraj\\AppData\\Local\\Temp\\ipykernel_3224\\2123495152.py:2: UserWarning: `Model.fit_generator` is deprecated and will be removed in a future version. Please use `Model.fit`, which supports generators.\n",
      "  history = model.fit_generator(train_generator,\n"
     ]
    },
    {
     "name": "stdout",
     "output_type": "stream",
     "text": [
      "Epoch 1/10\n",
      "91/91 [==============================] - 887s 9s/step - loss: 0.6749 - accuracy: 0.6323 - val_loss: 0.6240 - val_accuracy: 0.6857\n",
      "Epoch 2/10\n",
      "91/91 [==============================] - 715s 8s/step - loss: 0.6531 - accuracy: 0.6582 - val_loss: 0.6292 - val_accuracy: 0.6857\n",
      "Epoch 3/10\n",
      "91/91 [==============================] - 587s 6s/step - loss: 0.6500 - accuracy: 0.6551 - val_loss: 0.6230 - val_accuracy: 0.6857\n",
      "Epoch 4/10\n",
      "91/91 [==============================] - 595s 7s/step - loss: 0.6521 - accuracy: 0.6572 - val_loss: 0.6296 - val_accuracy: 0.6857\n",
      "Epoch 5/10\n",
      "91/91 [==============================] - 601s 7s/step - loss: 0.6487 - accuracy: 0.6572 - val_loss: 0.6293 - val_accuracy: 0.6857\n",
      "Epoch 6/10\n",
      "91/91 [==============================] - 611s 7s/step - loss: 0.6453 - accuracy: 0.6572 - val_loss: 0.6288 - val_accuracy: 0.6857\n",
      "Epoch 7/10\n",
      "91/91 [==============================] - 338s 4s/step - loss: 0.6499 - accuracy: 0.6572 - val_loss: 0.6238 - val_accuracy: 0.6857\n",
      "Epoch 8/10\n",
      "91/91 [==============================] - 323s 4s/step - loss: 0.6456 - accuracy: 0.6572 - val_loss: 0.6231 - val_accuracy: 0.6857\n",
      "Epoch 9/10\n",
      "91/91 [==============================] - 460s 5s/step - loss: 0.6474 - accuracy: 0.6572 - val_loss: 0.6269 - val_accuracy: 0.6857\n",
      "Epoch 10/10\n",
      "91/91 [==============================] - 486s 5s/step - loss: 0.6476 - accuracy: 0.6572 - val_loss: 0.6261 - val_accuracy: 0.6857\n"
     ]
    }
   ],
   "source": [
    "# train the model\n",
    "history = model.fit_generator(train_generator,\n",
    "                              epochs=10,\n",
    "                              validation_data=validation_generator,\n",
    "                              steps_per_epoch=len(train_generator),\n",
    "                              validation_steps=len(validation_generator))"
   ]
  },
  {
   "cell_type": "code",
   "execution_count": 21,
   "id": "709cc522",
   "metadata": {},
   "outputs": [
    {
     "data": {
      "image/png": "[encoded data removed]",
      "text/plain": [
       "<Figure size 720x576 with 1 Axes>"
      ]
     },
     "metadata": {
      "needs_background": "light"
     },
     "output_type": "display_data"
    }
   ],
   "source": [
    "import matplotlib.pyplot as plt\n",
    "plt.figure(figsize =(10,8))\n",
    "plt.plot(history.history['loss'],label= 'loss')\n",
    "plt.plot(history.history['val_loss'], label = 'validation_loss')\n",
    "plt.plot(history.history['accuracy'], label = 'accuracy')\n",
    "plt.plot(history.history['val_accuracy'], label = 'validation_accuracy')\n",
    "plt.legend()\n",
    "plt.show()"
   ]
  },
  {
   "cell_type": "code",
   "execution_count": 22,
   "id": "7885305d",
   "metadata": {},
   "outputs": [],
   "source": [
    "# define the data generators for training, validation, and test sets\n",
    "train_datagen = ImageDataGenerator(rescale=1./255)\n",
    "validation_datagen = ImageDataGenerator(rescale=1./255)\n",
    "train_dir = r\"C:\\Users\\Neetiraj\\Videos\\archive\\traindata\\traindata\"\n",
    "val_dir = r\"C:\\Users\\Neetiraj\\Videos\\archive\\testdata\\testdata\"\n"
   ]
  },
  {
   "cell_type": "code",
   "execution_count": 23,
   "id": "625d5724",
   "metadata": {},
   "outputs": [
    {
     "name": "stdout",
     "output_type": "stream",
     "text": [
      "Found 2891 images belonging to 2 classes.\n",
      "Found 1330 images belonging to 2 classes.\n"
     ]
    }
   ],
   "source": [
    "# create the generators for the training, validation, and test sets\n",
    "train_generator = train_datagen.flow_from_directory(train_dir,\n",
    "                                                    target_size=(224, 224),\n",
    "                                                    batch_size=32,\n",
    "                                                    class_mode='categorical')\n",
    "# create the generators for the training, validation, and test sets\n",
    "val_generator = validation_datagen.flow_from_directory(val_dir,\n",
    "                                                    target_size=(224, 224),\n",
    "                                                    batch_size=32,\n",
    "                                                    class_mode='categorical')"
   ]
  },
  {
   "cell_type": "code",
   "execution_count": 24,
   "id": "00eb65e4",
   "metadata": {},
   "outputs": [
    {
     "name": "stderr",
     "output_type": "stream",
     "text": [
      "C:\\Users\\Neetiraj\\AppData\\Local\\Temp\\ipykernel_3224\\2123495152.py:2: UserWarning: `Model.fit_generator` is deprecated and will be removed in a future version. Please use `Model.fit`, which supports generators.\n",
      "  history = model.fit_generator(train_generator,\n"
     ]
    },
    {
     "name": "stdout",
     "output_type": "stream",
     "text": [
      "Epoch 1/10\n",
      "91/91 [==============================] - 428s 5s/step - loss: 0.6469 - accuracy: 0.6572 - val_loss: 0.6262 - val_accuracy: 0.6857\n",
      "Epoch 2/10\n",
      "91/91 [==============================] - 395s 4s/step - loss: 0.6462 - accuracy: 0.6551 - val_loss: 0.6255 - val_accuracy: 0.6857\n",
      "Epoch 3/10\n",
      "91/91 [==============================] - 371s 4s/step - loss: 0.6480 - accuracy: 0.6572 - val_loss: 0.6306 - val_accuracy: 0.6857\n",
      "Epoch 4/10\n",
      "91/91 [==============================] - 368s 4s/step - loss: 0.6445 - accuracy: 0.6572 - val_loss: 0.6298 - val_accuracy: 0.6857\n",
      "Epoch 5/10\n",
      "91/91 [==============================] - 355s 4s/step - loss: 0.6477 - accuracy: 0.6572 - val_loss: 0.6314 - val_accuracy: 0.6857\n",
      "Epoch 6/10\n",
      "91/91 [==============================] - 351s 4s/step - loss: 0.6462 - accuracy: 0.6572 - val_loss: 0.6301 - val_accuracy: 0.6857\n",
      "Epoch 7/10\n",
      "91/91 [==============================] - 358s 4s/step - loss: 0.6458 - accuracy: 0.6572 - val_loss: 0.6258 - val_accuracy: 0.6857\n",
      "Epoch 8/10\n",
      "91/91 [==============================] - 328s 4s/step - loss: 0.6445 - accuracy: 0.6572 - val_loss: 0.6252 - val_accuracy: 0.6857\n",
      "Epoch 9/10\n",
      "91/91 [==============================] - 363s 4s/step - loss: 0.6447 - accuracy: 0.6572 - val_loss: 0.6259 - val_accuracy: 0.6857\n",
      "Epoch 10/10\n",
      "91/91 [==============================] - 391s 4s/step - loss: 0.6448 - accuracy: 0.6572 - val_loss: 0.6266 - val_accuracy: 0.6857\n"
     ]
    }
   ],
   "source": [
    "# train the model\n",
    "history = model.fit_generator(train_generator,\n",
    "                              epochs=10,\n",
    "                              validation_data=validation_generator,\n",
    "                              steps_per_epoch=len(train_generator),\n",
    "                              validation_steps=len(validation_generator))"
   ]
  },
  {
   "cell_type": "code",
   "execution_count": 25,
   "id": "d86da10e",
   "metadata": {},
   "outputs": [
    {
     "data": {
      "image/png": "[encoded data removed]",
      "text/plain": [
       "<Figure size 720x576 with 1 Axes>"
      ]
     },
     "metadata": {
      "needs_background": "light"
     },
     "output_type": "display_data"
    }
   ],
   "source": [
    "import matplotlib.pyplot as plt\n",
    "plt.figure(figsize =(10,8))\n",
    "plt.plot(history.history['loss'],label= 'loss')\n",
    "plt.plot(history.history['val_loss'], label = 'validation_loss')\n",
    "plt.plot(history.history['accuracy'], label = 'accuracy')\n",
    "plt.plot(history.history['val_accuracy'], label = 'validation_accuracy')\n",
    "plt.legend()\n",
    "plt.show()"
   ]
  },
  {
   "cell_type": "code",
   "execution_count": null,
   "id": "375d5c33",
   "metadata": {},
   "outputs": [],
   "source": []
  }
 ],
 "metadata": {
  "kernelspec": {
   "display_name": "Python 3 (ipykernel)",
   "language": "python",
   "name": "python3"
  },
  "language_info": {
   "codemirror_mode": {
    "name": "ipython",
    "version": 3
   },
   "file_extension": ".py",
   "mimetype": "text/x-python",
   "name": "python",
   "nbconvert_exporter": "python",
   "pygments_lexer": "ipython3",
   "version": "3.9.12"
  }
 },
 "nbformat": 4,
 "nbformat_minor": 5
}
